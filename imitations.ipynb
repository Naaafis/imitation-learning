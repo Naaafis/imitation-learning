{
 "cells": [
  {
   "cell_type": "code",
   "execution_count": 1,
   "metadata": {},
   "outputs": [
    {
     "name": "stdout",
     "output_type": "stream",
     "text": [
      "01_imitation.pdf imitations.ipynb main.py          training.py\n",
      "\u001b[34mdata\u001b[m\u001b[m             imitations.py    network.py\n"
     ]
    }
   ],
   "source": [
    "!ls"
   ]
  },
  {
   "cell_type": "code",
   "execution_count": 11,
   "metadata": {},
   "outputs": [],
   "source": [
    "import os\n",
    "import numpy as np\n",
    "import gym\n",
    "from pyglet.window import key"
   ]
  },
  {
   "cell_type": "code",
   "execution_count": 12,
   "metadata": {},
   "outputs": [],
   "source": [
    "def load_imitations(data_folder):\n",
    "    \"\"\"\n",
    "    1.1 a)\n",
    "    Given the folder containing the expert imitations, the data gets loaded and\n",
    "    stored it in two lists: observations and actions.\n",
    "                    N = number of (observation, action) - pairs\n",
    "    data_folder:    python string, the path to the folder containing the\n",
    "                    observation_%05d.npy and action_%05d.npy files\n",
    "    return:\n",
    "    observations:   python list of N numpy.ndarrays of size (96, 96, 3)\n",
    "    actions:        python list of N numpy.ndarrays of size 3\n",
    "    \"\"\"\n",
    "    observations = []\n",
    "    actions = []\n",
    "    \n",
    "    # List all files in the data folder\n",
    "    files = sorted(os.listdir(data_folder))\n",
    "    \n",
    "    for file in files:\n",
    "        # Check if the file is an observation or action file\n",
    "        if file.startswith(\"observation_\"):\n",
    "            obs_path = os.path.join(data_folder, file)\n",
    "            observations.append(np.load(obs_path))\n",
    "        elif file.startswith(\"action_\"):\n",
    "            action_path = os.path.join(data_folder, file)\n",
    "            actions.append(np.load(action_path))\n",
    "    \n",
    "    return observations, actions"
   ]
  },
  {
   "cell_type": "code",
   "execution_count": 13,
   "metadata": {},
   "outputs": [
    {
     "name": "stdout",
     "output_type": "stream",
     "text": [
      "(96, 96, 3)\n",
      "Observation 1: [[[102 204 102]\n",
      "  [102 204 102]\n",
      "  [102 204 102]\n",
      "  ...\n",
      "  [  0   0   0]\n",
      "  [  0   0   0]\n",
      "  [  0   0   0]]\n",
      "\n",
      " [[102 204 102]\n",
      "  [102 204 102]\n",
      "  [102 204 102]\n",
      "  ...\n",
      "  [  0   0   0]\n",
      "  [  0   0   0]\n",
      "  [  0   0   0]]\n",
      "\n",
      " [[102 204 102]\n",
      "  [102 204 102]\n",
      "  [102 204 102]\n",
      "  ...\n",
      "  [  0   0   0]\n",
      "  [  0   0   0]\n",
      "  [  0   0   0]]\n",
      "\n",
      " ...\n",
      "\n",
      " [[102 204 102]\n",
      "  [102 204 102]\n",
      "  [102 204 102]\n",
      "  ...\n",
      "  [102 204 102]\n",
      "  [102 204 102]\n",
      "  [102 204 102]]\n",
      "\n",
      " [[102 204 102]\n",
      "  [102 204 102]\n",
      "  [102 204 102]\n",
      "  ...\n",
      "  [102 204 102]\n",
      "  [102 204 102]\n",
      "  [102 204 102]]\n",
      "\n",
      " [[102 204 102]\n",
      "  [102 204 102]\n",
      "  [102 204 102]\n",
      "  ...\n",
      "  [102 204 102]\n",
      "  [102 204 102]\n",
      "  [102 204 102]]]\n",
      "Action 1: [0. 0. 0.]\n"
     ]
    }
   ],
   "source": [
    "def test_load_imitations():\n",
    "    data_folder = './data/teacher'  \n",
    "    observations, actions = load_imitations(data_folder)\n",
    "    print(observations[0].shape)\n",
    "    # Print the first 5 observations and actions to check the outcome\n",
    "    for i in range(len(actions)):\n",
    "        #print(f\"Observation {i+1}:\", observations[i])\n",
    "        print(f\"Action {i+1}:\", actions[i])\n",
    "\n",
    "test_load_imitations()"
   ]
  },
  {
   "cell_type": "code",
   "execution_count": null,
   "metadata": {},
   "outputs": [],
   "source": []
  }
 ],
 "metadata": {
  "kernelspec": {
   "display_name": "gym",
   "language": "python",
   "name": "python3"
  },
  "language_info": {
   "codemirror_mode": {
    "name": "ipython",
    "version": 3
   },
   "file_extension": ".py",
   "mimetype": "text/x-python",
   "name": "python",
   "nbconvert_exporter": "python",
   "pygments_lexer": "ipython3",
   "version": "3.8.18"
  },
  "orig_nbformat": 4
 },
 "nbformat": 4,
 "nbformat_minor": 2
}
